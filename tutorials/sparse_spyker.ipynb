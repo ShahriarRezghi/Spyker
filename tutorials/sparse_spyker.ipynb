{
 "cells": [
  {
   "cell_type": "markdown",
   "id": "17eb60d0",
   "metadata": {},
   "source": [
    "# Tutorial 3: Sparse Spyker\n",
    "We saw how to use spyker in the previous tutorials. Here, we show how to change previous tutorials to use the sparse interface of the library. As before, we import the needed tools first."
   ]
  },
  {
   "cell_type": "code",
   "execution_count": null,
   "id": "9a9cd7f9",
   "metadata": {},
   "outputs": [],
   "source": [
    "import spyker, torch\n",
    "from spyker import sparse\n",
    "from sklearn.svm import SVC\n",
    "from sklearn.decomposition import PCA\n",
    "from torch.utils.data import TensorDataset, DataLoader"
   ]
  },
  {
   "cell_type": "markdown",
   "id": "d7093914",
   "metadata": {},
   "source": [
    "The dataset is loaded like before."
   ]
  },
  {
   "cell_type": "code",
   "execution_count": null,
   "id": "21f64a8e",
   "metadata": {},
   "outputs": [],
   "source": [
    "batch, root = 64, './MNIST'\n",
    "trainx, trainy, testx, testy = spyker.read_mnist(\n",
    "    root+'/train-images-idx3-ubyte', root+'/train-labels-idx1-ubyte',\n",
    "    root+'/t10k-images-idx3-ubyte', root+'/t10k-labels-idx1-ubyte')\n",
    "trainx, trainy, testx, testy = spyker.to_torch(trainx, trainy, testx, testy)\n",
    "train = DataLoader(TensorDataset(trainx, trainy), batch_size=batch)\n",
    "test = DataLoader(TensorDataset(testx, testy), batch_size=batch)"
   ]
  },
  {
   "cell_type": "markdown",
   "id": "1e8757e9",
   "metadata": {},
   "source": [
    "Since the sparse interface runs on CPU, we can skip the device arguement in the `Transform` module and change `rankcode` to `rankcvt` to get sparse spikes. "
   ]
  },
  {
   "cell_type": "code",
   "execution_count": null,
   "id": "91a37d64",
   "metadata": {},
   "outputs": [],
   "source": [
    "class Transform:\n",
    "    def __init__(self):\n",
    "        self.filter = spyker.LoG(3, [.5, 1, 2], pad=3)\n",
    "    \n",
    "    def __call__(self, input):\n",
    "        return sparse.code(spyker.threshold(self.filter(input), .01), 15)"
   ]
  },
  {
   "cell_type": "markdown",
   "id": "dcbe9ab0",
   "metadata": {},
   "source": [
    "We skip the device arguement in the `Network` module too. A few other changes need to be applied to the network so that it will be able to process sparse input."
   ]
  },
  {
   "cell_type": "code",
   "execution_count": null,
   "id": "f0bd6d56",
   "metadata": {},
   "outputs": [],
   "source": [
    "class Network:\n",
    "    def __init__(self):\n",
    "        self.conv1 = spyker.Conv(6, 50, 5, pad=2)\n",
    "        self.conv2 = spyker.Conv(50, 100, 3, pad=1)\n",
    "        self.conv1.stdpconfig = [spyker.STDPConfig(.004, -.003)]\n",
    "        self.conv2.stdpconfig = [spyker.STDPConfig(.004, -.003)]\n",
    "    \n",
    "    def train1(self, input):\n",
    "        output = sparse.inhibit(self.conv1(input, 16))\n",
    "        self.conv1.stdp(input, sparse.convwta(output, 3, 5))\n",
    "        \n",
    "    def train2(self, input):\n",
    "        input = sparse.pool(self.conv1(input, 16), 2)\n",
    "        output = sparse.inhibit(self.conv2(input, 5))\n",
    "        self.conv2.stdp(input, sparse.convwta(output, 1, 8))\n",
    "    \n",
    "    def __call__(self, input):\n",
    "        input = sparse.pool(self.conv1(input, 16), 2)\n",
    "        input = sparse.pool(self.conv2(input, 5), 3)\n",
    "        return (15 - spyker.to_torch(sparse.gather(input))).flatten(1)"
   ]
  },
  {
   "cell_type": "markdown",
   "id": "6c945cb2",
   "metadata": {},
   "source": [
    "The rest of the code doesn't need to change."
   ]
  },
  {
   "cell_type": "code",
   "execution_count": null,
   "id": "f3855982",
   "metadata": {},
   "outputs": [],
   "source": [
    "def Total(network, transform, dataset):\n",
    "    data_total, target_total = [], []\n",
    "    for data, target in dataset:\n",
    "        data_total.append(network(transform(data)).cpu())\n",
    "        target_total.append(target)\n",
    "    return torch.cat(data_total), torch.cat(target_total)"
   ]
  },
  {
   "cell_type": "code",
   "execution_count": null,
   "id": "de992122",
   "metadata": {},
   "outputs": [],
   "source": [
    "def Update(config):\n",
    "    rate = config.negative / config.positive\n",
    "    pos = min(config.positive * 2, .1)\n",
    "    config.positive, config.negative = pos, pos * rate"
   ]
  },
  {
   "cell_type": "code",
   "execution_count": null,
   "id": "e56e11d8",
   "metadata": {},
   "outputs": [],
   "source": [
    "transform = Transform()\n",
    "network = Network()"
   ]
  },
  {
   "cell_type": "code",
   "execution_count": null,
   "id": "9cca4aea",
   "metadata": {
    "scrolled": true
   },
   "outputs": [],
   "source": [
    "from tqdm.notebook import tqdm\n",
    "\n",
    "for i, (data, _) in enumerate(tqdm(train, \"Training Layer 1\")):\n",
    "    if (i + 1) % 10 == 0: Update(network.conv1.stdpconfig[0])\n",
    "    network.train1(transform(data))\n",
    "spyker.quantize(network.conv1.kernel, 0, .5, 1)\n",
    "\n",
    "for i, (data, _) in enumerate(tqdm(train, \"Training Layer 2\")):\n",
    "    if (i + 1) % 10 == 0: Update(network.conv2.stdpconfig[0])\n",
    "    network.train2(transform(data))\n",
    "spyker.quantize(network.conv2.kernel, 0, .5, 1);"
   ]
  },
  {
   "cell_type": "code",
   "execution_count": null,
   "id": "3e5c949b",
   "metadata": {},
   "outputs": [],
   "source": [
    "train_data, train_target = Total(network, transform, train)\n",
    "test_data, test_target = Total(network, transform, test)"
   ]
  },
  {
   "cell_type": "code",
   "execution_count": null,
   "id": "549d75c7",
   "metadata": {},
   "outputs": [],
   "source": [
    "pca = PCA(n_components=200).fit(train_data, train_target)\n",
    "train_data, test_data = pca.transform(train_data), pca.transform(test_data)"
   ]
  },
  {
   "cell_type": "code",
   "execution_count": null,
   "id": "f7d12de8",
   "metadata": {},
   "outputs": [],
   "source": [
    "target = SVC(C=2.4).fit(train_data, train_target).predict(test_data)\n",
    "accuracy = (torch.tensor(target) == test_target).sum() / len(test_target)\n",
    "print(f\"Final Accuracy: {accuracy * 100 :.2f}%\")"
   ]
  },
  {
   "cell_type": "markdown",
   "id": "89116d84",
   "metadata": {},
   "source": [
    "We can see that the accuracy is nearly the same as before and it runs fairly fast even though it runs on the CPU."
   ]
  }
 ],
 "metadata": {
  "kernelspec": {
   "display_name": "Python 3 (ipykernel)",
   "language": "python",
   "name": "python3"
  },
  "language_info": {
   "codemirror_mode": {
    "name": "ipython",
    "version": 3
   },
   "file_extension": ".py",
   "mimetype": "text/x-python",
   "name": "python",
   "nbconvert_exporter": "python",
   "pygments_lexer": "ipython3",
   "version": "3.11.3"
  }
 },
 "nbformat": 4,
 "nbformat_minor": 5
}
