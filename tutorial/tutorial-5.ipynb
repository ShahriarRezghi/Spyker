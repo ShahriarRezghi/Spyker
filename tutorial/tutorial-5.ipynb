{
 "cells": [
  {
   "cell_type": "code",
   "execution_count": null,
   "id": "3629f40a",
   "metadata": {},
   "outputs": [],
   "source": [
    "import spyker, torch\n",
    "from sklearn.svm import SVC\n",
    "from sklearn.decomposition import PCA\n",
    "from torch.utils.data import TensorDataset, DataLoader"
   ]
  },
  {
   "cell_type": "code",
   "execution_count": null,
   "id": "19c7fbf1",
   "metadata": {},
   "outputs": [],
   "source": [
    "batch, root = 64, './MNIST'\n",
    "trainx, trainy, testx, testy = spyker.read_mnist(\n",
    "    root+'/train-images-idx3-ubyte', root+'/train-labels-idx1-ubyte',\n",
    "    root+'/t10k-images-idx3-ubyte', root+'/t10k-labels-idx1-ubyte')\n",
    "trainx, trainy, testx, testy = spyker.to_torch(trainx, trainy, testx, testy)\n",
    "train = DataLoader(TensorDataset(trainx, trainy), batch_size=batch)\n",
    "test = DataLoader(TensorDataset(testx, testy), batch_size=batch)"
   ]
  },
  {
   "cell_type": "code",
   "execution_count": null,
   "id": "edfd3ee5",
   "metadata": {},
   "outputs": [],
   "source": [
    "class Network:\n",
    "    def __init__(self, device):\n",
    "        self.device = device\n",
    "        self.filter = spyker.LoG(3, [.5, 1, 2], pad=3, device=device)\n",
    "        self.conv1 = spyker.Conv(6, 50, 5, pad=2, device=device)\n",
    "        self.conv2 = spyker.Conv(50, 100, 3, pad=1, device=device)\n",
    "        self.conv1.stdpconfig = [spyker.STDPConfig(.004, -.003)]\n",
    "        self.conv2.stdpconfig = [spyker.STDPConfig(.004, -.003)]\n",
    "    \n",
    "    def code(self, input, code):\n",
    "        if self.device.kind == 'cuda': input = input.cuda()\n",
    "        return spyker.code(spyker.threshold(self.filter(input), .01), 15, code=code)\n",
    "    \n",
    "    def train1(self, input):\n",
    "        input = self.code(input, 'rank')\n",
    "        output = spyker.inhibit(spyker.threshold(self.conv1(input), 16))\n",
    "        self.conv1.stdp(input, spyker.convwta(output, 3, 5), spyker.fire(output))\n",
    "        \n",
    "    def train2(self, input):\n",
    "        input = self.code(input, 'rank')\n",
    "        input = spyker.pool(spyker.fire(self.conv1(input), 16), 2)\n",
    "        output = spyker.inhibit(spyker.threshold(self.conv2(input), 5))\n",
    "        self.conv2.stdp(input, spyker.convwta(output, 1, 8), spyker.fire(output))\n",
    "    \n",
    "    def __call__(self, input):\n",
    "        input = self.code(input, 'rate')\n",
    "        input = spyker.fire(self.conv1(input), 16, code='rate')\n",
    "        input = spyker.pool(input, 2, rates=spyker.gather(input, code='rate'))\n",
    "        input = spyker.fire(self.conv2(input), 5, code='rate')\n",
    "        input = spyker.pool(input, 3, rates=spyker.gather(input, code='rate'))\n",
    "        return spyker.gather(input, code='rate').flatten(1)"
   ]
  },
  {
   "cell_type": "code",
   "execution_count": null,
   "id": "ba439df6",
   "metadata": {},
   "outputs": [],
   "source": [
    "def Total(network, dataset):\n",
    "    data_total, target_total = [], []\n",
    "    for data, target in dataset:\n",
    "        data_total.append(network(data).cpu())\n",
    "        target_total.append(target)\n",
    "    return torch.cat(data_total), torch.cat(target_total)"
   ]
  },
  {
   "cell_type": "code",
   "execution_count": null,
   "id": "c9c0d4df",
   "metadata": {},
   "outputs": [],
   "source": [
    "def Update(config):\n",
    "    rate = config.negative / config.positive\n",
    "    pos = min(config.positive * 2, .1)\n",
    "    config.positive, config.negative = pos, pos * rate"
   ]
  },
  {
   "cell_type": "code",
   "execution_count": null,
   "id": "a34cd0be",
   "metadata": {},
   "outputs": [],
   "source": [
    "device = spyker.device('cuda' if spyker.cuda_available() else 'cpu')"
   ]
  },
  {
   "cell_type": "code",
   "execution_count": null,
   "id": "88b4d2f2",
   "metadata": {},
   "outputs": [],
   "source": [
    "network = Network(device)"
   ]
  },
  {
   "cell_type": "code",
   "execution_count": null,
   "id": "c316e341",
   "metadata": {},
   "outputs": [],
   "source": [
    "from tqdm.notebook import tqdm\n",
    "\n",
    "for i, (data, _) in enumerate(tqdm(train, \"Training Layer 1\")):\n",
    "    if (i + 1) % 10 == 0: Update(network.conv1.stdpconfig[0])\n",
    "    network.train1(data)\n",
    "spyker.quantize(network.conv1.kernel, 0, .5, 1)\n",
    "\n",
    "for i, (data, _) in enumerate(tqdm(train, \"Training Layer 2\")):\n",
    "    if (i + 1) % 10 == 0: Update(network.conv2.stdpconfig[0])\n",
    "    network.train2(data)\n",
    "spyker.quantize(network.conv2.kernel, 0, .5, 1);"
   ]
  },
  {
   "cell_type": "code",
   "execution_count": null,
   "id": "cb93e027",
   "metadata": {
    "scrolled": false
   },
   "outputs": [],
   "source": [
    "train_data, train_target = Total(network, train)\n",
    "test_data, test_target = Total(network, test)"
   ]
  },
  {
   "cell_type": "code",
   "execution_count": null,
   "id": "0bf3b5a3",
   "metadata": {},
   "outputs": [],
   "source": [
    "pca = PCA(n_components=200).fit(train_data, train_target)\n",
    "train_data, test_data = pca.transform(train_data), pca.transform(test_data)"
   ]
  },
  {
   "cell_type": "code",
   "execution_count": null,
   "id": "fcfb70ed",
   "metadata": {},
   "outputs": [],
   "source": [
    "target = SVC(C=2.4).fit(train_data, train_target).predict(test_data)\n",
    "accuracy = (torch.tensor(target) == test_target).sum() / len(test_target)\n",
    "print(f\"Final Accuracy: {accuracy * 100 :.2f}%\")"
   ]
  }
 ],
 "metadata": {
  "kernelspec": {
   "display_name": "Python 3 (ipykernel)",
   "language": "python",
   "name": "python3"
  },
  "language_info": {
   "codemirror_mode": {
    "name": "ipython",
    "version": 3
   },
   "file_extension": ".py",
   "mimetype": "text/x-python",
   "name": "python",
   "nbconvert_exporter": "python",
   "pygments_lexer": "ipython3",
   "version": "3.10.9"
  }
 },
 "nbformat": 4,
 "nbformat_minor": 5
}
