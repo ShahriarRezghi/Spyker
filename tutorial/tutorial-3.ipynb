{
 "cells": [
  {
   "cell_type": "markdown",
   "id": "17eb60d0",
   "metadata": {},
   "source": [
    "# Tutorial 3: Sparse Spyker\n",
    "We saw how to use spyker in the previous tutorials. Here, we show how to change previous tutorials to use the sparse interface of the library. As before, we import the needed tools first."
   ]
  },
  {
   "cell_type": "code",
   "execution_count": 1,
   "id": "9a9cd7f9",
   "metadata": {},
   "outputs": [],
   "source": [
    "import spyker, torch\n",
    "from spyker import sparse\n",
    "from sklearn.svm import SVC\n",
    "from sklearn.decomposition import PCA\n",
    "from torch.utils.data import TensorDataset, DataLoader"
   ]
  },
  {
   "cell_type": "markdown",
   "id": "d7093914",
   "metadata": {},
   "source": [
    "The dataset is loaded like before."
   ]
  },
  {
   "cell_type": "code",
   "execution_count": 2,
   "id": "21f64a8e",
   "metadata": {},
   "outputs": [],
   "source": [
    "batch, root = 64, './MNIST'\n",
    "trainx, trainy, testx, testy = spyker.read_mnist(\n",
    "    root+'/train-images-idx3-ubyte', root+'/train-labels-idx1-ubyte',\n",
    "    root+'/t10k-images-idx3-ubyte', root+'/t10k-labels-idx1-ubyte')\n",
    "trainx, trainy, testx, testy = spyker.to_torch(trainx, trainy, testx, testy)\n",
    "train = DataLoader(TensorDataset(trainx, trainy), batch_size=batch)\n",
    "test = DataLoader(TensorDataset(testx, testy), batch_size=batch)"
   ]
  },
  {
   "cell_type": "markdown",
   "id": "1e8757e9",
   "metadata": {},
   "source": [
    "Since the sparse interface runs on CPU, we can skip the device arguement in the `Transform` module and change `rankcode` to `rankcvt` to get sparse spikes. "
   ]
  },
  {
   "cell_type": "code",
   "execution_count": 3,
   "id": "91a37d64",
   "metadata": {},
   "outputs": [],
   "source": [
    "class Transform:\n",
    "    def __init__(self):\n",
    "        self.filter = spyker.LoG(3, [.5, 1, 2], pad=3)\n",
    "    \n",
    "    def __call__(self, input):\n",
    "        return sparse.code(spyker.threshold(self.filter(input), .01), 15)"
   ]
  },
  {
   "cell_type": "markdown",
   "id": "dcbe9ab0",
   "metadata": {},
   "source": [
    "We skip the device arguement in the `Network` module too. A few other changes need to be applied to the network so that it will be able to process sparse input."
   ]
  },
  {
   "cell_type": "code",
   "execution_count": 4,
   "id": "f0bd6d56",
   "metadata": {},
   "outputs": [],
   "source": [
    "class Network:\n",
    "    def __init__(self):\n",
    "        self.conv1 = spyker.Conv(6, 50, 5, pad=2)\n",
    "        self.conv2 = spyker.Conv(50, 100, 3, pad=1)\n",
    "        self.conv1.stdpconfig = [spyker.STDPConfig(.004, -.003)]\n",
    "        self.conv2.stdpconfig = [spyker.STDPConfig(.004, -.003)]\n",
    "    \n",
    "    def train1(self, input):\n",
    "        output = sparse.inhibit(self.conv1(input, 16))\n",
    "        self.conv1.stdp(input, sparse.convwta(output, 3, 5))\n",
    "        \n",
    "    def train2(self, input):\n",
    "        input = sparse.pool(self.conv1(input, 16), 2)\n",
    "        output = sparse.inhibit(self.conv2(input, 5))\n",
    "        self.conv2.stdp(input, sparse.convwta(output, 1, 8))\n",
    "    \n",
    "    def __call__(self, input):\n",
    "        input = sparse.pool(self.conv1(input, 16), 2)\n",
    "        input = sparse.pool(self.conv2(input, 5), 3)\n",
    "        return (15 - spyker.to_torch(sparse.gather(input))).flatten(1)"
   ]
  },
  {
   "cell_type": "markdown",
   "id": "6c945cb2",
   "metadata": {},
   "source": [
    "The rest of the code doesn't need to change."
   ]
  },
  {
   "cell_type": "code",
   "execution_count": 5,
   "id": "f3855982",
   "metadata": {},
   "outputs": [],
   "source": [
    "def Total(network, transform, dataset):\n",
    "    data_total, target_total = [], []\n",
    "    for data, target in dataset:\n",
    "        data_total.append(network(transform(data)).cpu())\n",
    "        target_total.append(target)\n",
    "    return torch.cat(data_total), torch.cat(target_total)"
   ]
  },
  {
   "cell_type": "code",
   "execution_count": 6,
   "id": "de992122",
   "metadata": {},
   "outputs": [],
   "source": [
    "def Update(config):\n",
    "    rate = config.neg / config.pos\n",
    "    pos = min(config.pos * 2, .1)\n",
    "    config.pos, config.neg = pos, pos * rate"
   ]
  },
  {
   "cell_type": "code",
   "execution_count": 7,
   "id": "e56e11d8",
   "metadata": {},
   "outputs": [],
   "source": [
    "transform = Transform()\n",
    "network = Network()"
   ]
  },
  {
   "cell_type": "code",
   "execution_count": 8,
   "id": "9cca4aea",
   "metadata": {},
   "outputs": [
    {
     "data": {
      "application/vnd.jupyter.widget-view+json": {
       "model_id": "e8b65648c334435ca17c24504a8f4009",
       "version_major": 2,
       "version_minor": 0
      },
      "text/plain": [
       "Training Layer 1:   0%|          | 0/938 [00:00<?, ?it/s]"
      ]
     },
     "metadata": {},
     "output_type": "display_data"
    },
    {
     "data": {
      "application/vnd.jupyter.widget-view+json": {
       "model_id": "9665a6d694ac49b7ad46bee48775fe9f",
       "version_major": 2,
       "version_minor": 0
      },
      "text/plain": [
       "Training Layer 2:   0%|          | 0/938 [00:00<?, ?it/s]"
      ]
     },
     "metadata": {},
     "output_type": "display_data"
    },
    {
     "ename": "KeyboardInterrupt",
     "evalue": "",
     "output_type": "error",
     "traceback": [
      "\u001b[0;31m---------------------------------------------------------------------------\u001b[0m",
      "\u001b[0;31mKeyboardInterrupt\u001b[0m                         Traceback (most recent call last)",
      "Cell \u001b[0;32mIn [8], line 10\u001b[0m\n\u001b[1;32m      8\u001b[0m \u001b[38;5;28;01mfor\u001b[39;00m i, (data, _) \u001b[38;5;129;01min\u001b[39;00m \u001b[38;5;28menumerate\u001b[39m(tqdm(train, \u001b[38;5;124m\"\u001b[39m\u001b[38;5;124mTraining Layer 2\u001b[39m\u001b[38;5;124m\"\u001b[39m)):\n\u001b[1;32m      9\u001b[0m     \u001b[38;5;28;01mif\u001b[39;00m (i \u001b[38;5;241m+\u001b[39m \u001b[38;5;241m1\u001b[39m) \u001b[38;5;241m%\u001b[39m \u001b[38;5;241m10\u001b[39m \u001b[38;5;241m==\u001b[39m \u001b[38;5;241m0\u001b[39m: Update(network\u001b[38;5;241m.\u001b[39mconv2\u001b[38;5;241m.\u001b[39mstdpconfig[\u001b[38;5;241m0\u001b[39m])\n\u001b[0;32m---> 10\u001b[0m     \u001b[43mnetwork\u001b[49m\u001b[38;5;241;43m.\u001b[39;49m\u001b[43mtrain2\u001b[49m\u001b[43m(\u001b[49m\u001b[43mtransform\u001b[49m\u001b[43m(\u001b[49m\u001b[43mdata\u001b[49m\u001b[43m)\u001b[49m\u001b[43m)\u001b[49m\n\u001b[1;32m     11\u001b[0m spyker\u001b[38;5;241m.\u001b[39mquantize(network\u001b[38;5;241m.\u001b[39mconv2\u001b[38;5;241m.\u001b[39mkernel, \u001b[38;5;241m0\u001b[39m, \u001b[38;5;241m.5\u001b[39m, \u001b[38;5;241m1\u001b[39m)\n",
      "Cell \u001b[0;32mIn [4], line 14\u001b[0m, in \u001b[0;36mNetwork.train2\u001b[0;34m(self, input)\u001b[0m\n\u001b[1;32m     12\u001b[0m \u001b[38;5;28;01mdef\u001b[39;00m \u001b[38;5;21mtrain2\u001b[39m(\u001b[38;5;28mself\u001b[39m, \u001b[38;5;28minput\u001b[39m):\n\u001b[1;32m     13\u001b[0m     \u001b[38;5;28minput\u001b[39m \u001b[38;5;241m=\u001b[39m sparse\u001b[38;5;241m.\u001b[39mpool(\u001b[38;5;28mself\u001b[39m\u001b[38;5;241m.\u001b[39mconv1(\u001b[38;5;28minput\u001b[39m, \u001b[38;5;241m16\u001b[39m), \u001b[38;5;241m2\u001b[39m)\n\u001b[0;32m---> 14\u001b[0m     output \u001b[38;5;241m=\u001b[39m \u001b[43msparse\u001b[49m\u001b[38;5;241;43m.\u001b[39;49m\u001b[43minhibit\u001b[49m\u001b[43m(\u001b[49m\u001b[38;5;28;43mself\u001b[39;49m\u001b[38;5;241;43m.\u001b[39;49m\u001b[43mconv2\u001b[49m\u001b[43m(\u001b[49m\u001b[38;5;28;43minput\u001b[39;49m\u001b[43m,\u001b[49m\u001b[43m \u001b[49m\u001b[38;5;241;43m5\u001b[39;49m\u001b[43m)\u001b[49m\u001b[43m)\u001b[49m\n\u001b[1;32m     15\u001b[0m     \u001b[38;5;28mself\u001b[39m\u001b[38;5;241m.\u001b[39mconv2\u001b[38;5;241m.\u001b[39mstdp(\u001b[38;5;28minput\u001b[39m, sparse\u001b[38;5;241m.\u001b[39mconvwta(output, \u001b[38;5;241m1\u001b[39m, \u001b[38;5;241m8\u001b[39m))\n",
      "File \u001b[0;32m~/.local/lib/python3.10/site-packages/spyker/sparse.py:29\u001b[0m, in \u001b[0;36minhibit\u001b[0;34m(input)\u001b[0m\n\u001b[1;32m     28\u001b[0m \u001b[38;5;28;01mdef\u001b[39;00m \u001b[38;5;21minhibit\u001b[39m(\u001b[38;5;28minput\u001b[39m):\n\u001b[0;32m---> 29\u001b[0m     \u001b[38;5;28;01mreturn\u001b[39;00m \u001b[43mimpl\u001b[49m\u001b[38;5;241;43m.\u001b[39;49m\u001b[43msparse\u001b[49m\u001b[38;5;241;43m.\u001b[39;49m\u001b[43minhibit\u001b[49m\u001b[43m(\u001b[49m\u001b[38;5;28;43minput\u001b[39;49m\u001b[43m)\u001b[49m\n",
      "\u001b[0;31mKeyboardInterrupt\u001b[0m: "
     ]
    }
   ],
   "source": [
    "from tqdm.notebook import tqdm\n",
    "\n",
    "for i, (data, _) in enumerate(tqdm(train, \"Training Layer 1\")):\n",
    "    if (i + 1) % 10 == 0: Update(network.conv1.stdpconfig[0])\n",
    "    network.train1(transform(data))\n",
    "spyker.quantize(network.conv1.kernel, 0, .5, 1)\n",
    "\n",
    "for i, (data, _) in enumerate(tqdm(train, \"Training Layer 2\")):\n",
    "    if (i + 1) % 10 == 0: Update(network.conv2.stdpconfig[0])\n",
    "    network.train2(transform(data))\n",
    "spyker.quantize(network.conv2.kernel, 0, .5, 1);"
   ]
  },
  {
   "cell_type": "code",
   "execution_count": null,
   "id": "3e5c949b",
   "metadata": {},
   "outputs": [],
   "source": [
    "train_data, train_target = Total(network, transform, train)\n",
    "test_data, test_target = Total(network, transform, test)"
   ]
  },
  {
   "cell_type": "code",
   "execution_count": null,
   "id": "549d75c7",
   "metadata": {},
   "outputs": [],
   "source": [
    "pca = PCA(n_components=200).fit(train_data, train_target)\n",
    "train_data, test_data = pca.transform(train_data), pca.transform(test_data)"
   ]
  },
  {
   "cell_type": "code",
   "execution_count": null,
   "id": "f7d12de8",
   "metadata": {},
   "outputs": [],
   "source": [
    "target = SVC(C=2.4).fit(train_data, train_target).predict(test_data)\n",
    "accuracy = (torch.tensor(target) == test_target).sum() / len(test_target)\n",
    "print(f\"Final Accuracy: {accuracy * 100 :.2f}%\")"
   ]
  },
  {
   "cell_type": "markdown",
   "id": "89116d84",
   "metadata": {},
   "source": [
    "We can see that the accuracy is nearly the same as before and it runs fairly fast even though it runs on the CPU."
   ]
  }
 ],
 "metadata": {
  "kernelspec": {
   "display_name": "Python 3 (ipykernel)",
   "language": "python",
   "name": "python3"
  },
  "language_info": {
   "codemirror_mode": {
    "name": "ipython",
    "version": 3
   },
   "file_extension": ".py",
   "mimetype": "text/x-python",
   "name": "python",
   "nbconvert_exporter": "python",
   "pygments_lexer": "ipython3",
   "version": "3.10.7"
  }
 },
 "nbformat": 4,
 "nbformat_minor": 5
}
